{
 "cells": [
  {
   "cell_type": "markdown",
   "metadata": {},
   "source": [
    "ハンバーガーショップで学ぶ\n",
    "\n",
    "楽しい統計学\n",
    "\n",
    "──平均から分散分析まで──\n",
    "\n",
    "http://kogolab.chillout.jp/elearn/hamburger/"
   ]
  },
  {
   "cell_type": "code",
   "execution_count": 121,
   "metadata": {
    "collapsed": true
   },
   "outputs": [],
   "source": [
    "import pandas as pd #データフレームを扱う\n",
    "\n",
    "# 表示系\n",
    "%matplotlib inline\n",
    "from IPython.display import display, HTML\n",
    "import matplotlib.pyplot as plt\n",
    "import seaborn as sns\n",
    "\n",
    "\n",
    "\n",
    "import numpy as np\n",
    "import math\n",
    "\n",
    "\n"
   ]
  },
  {
   "cell_type": "markdown",
   "metadata": {},
   "source": [
    "## 1. 平均と分散"
   ]
  },
  {
   "cell_type": "code",
   "execution_count": 122,
   "metadata": {
    "collapsed": false
   },
   "outputs": [
    {
     "name": "stdout",
     "output_type": "stream",
     "text": [
      "wakuwaku ave :  4.57\n",
      "mogumogu ave :  4.61\n"
     ]
    }
   ],
   "source": [
    "data = [3.5, 4.2, 4.9, 4.6, 2.8, 5.6, 4.2, 4.9, 4.4, 3.7, 3.8, 4, 5.2, 3.9, 5.6, 5.3, 5, 4.7, 4, 3.1, 5.8, 3.6, 6, 4.2, 5.7, 3.9, 4.7, 5.3, 5.5, 4.7, 6.4, 3.8, 3.9, 4.2, 5.1, 5.1, 4.1, 3.6, 4.2, 5, 4.2, 5.2, 5.3, 6.4, 4.4, 3.6, 3.7, 4.2, 4.8]\n",
    "waku_s = pd.Series(data)\n",
    "waku_ave = waku_s.sum()/waku_s.size\n",
    "\n",
    "data = [4.5, 4.2, 3.9, 6.6, 0.8, 5.6, 3.2, 6.9, 4.4, 4.7, 3.8, 3, 3.2, 4.9, 7.6, 3.3, 7, 3.7, 3, 4.1, 5.8, 4.6, 4, 2.2, 7.7, 3.9, 6.7, 3.3, 7.5, 2.7, 5.4, 5.8, 5.9, 3.2, 5.1, 3.1, 6.1, 4.6, 2.2, 4, 6.4, 5.2, 3.3, 6.4, 6.4, 2.6, 2.6, 5.2, 5.8]\n",
    "mogu_s = pd.Series(data)\n",
    "mogu_ave = mogu_s.sum()/mogu_s.size\n",
    "\n",
    "print(\"wakuwaku ave : \",round(waku_ave,2))\n",
    "print(\"mogumogu ave : \",round(mogu_ave,2))"
   ]
  },
  {
   "cell_type": "markdown",
   "metadata": {},
   "source": [
    "### 1.2　度数分布"
   ]
  },
  {
   "cell_type": "code",
   "execution_count": 123,
   "metadata": {
    "collapsed": false
   },
   "outputs": [
    {
     "name": "stdout",
     "output_type": "stream",
     "text": [
      "wakuwaku\n"
     ]
    },
    {
     "data": {
      "text/html": [
       "<div>\n",
       "<table border=\"1\" class=\"dataframe\">\n",
       "  <thead>\n",
       "    <tr style=\"text-align: right;\">\n",
       "      <th></th>\n",
       "      <th>cm</th>\n",
       "    </tr>\n",
       "    <tr>\n",
       "      <th>階級</th>\n",
       "      <th></th>\n",
       "    </tr>\n",
       "  </thead>\n",
       "  <tbody>\n",
       "    <tr>\n",
       "      <th>2</th>\n",
       "      <td>1</td>\n",
       "    </tr>\n",
       "    <tr>\n",
       "      <th>3</th>\n",
       "      <td>12</td>\n",
       "    </tr>\n",
       "    <tr>\n",
       "      <th>4</th>\n",
       "      <td>19</td>\n",
       "    </tr>\n",
       "    <tr>\n",
       "      <th>5</th>\n",
       "      <td>14</td>\n",
       "    </tr>\n",
       "    <tr>\n",
       "      <th>6</th>\n",
       "      <td>3</td>\n",
       "    </tr>\n",
       "  </tbody>\n",
       "</table>\n",
       "</div>"
      ],
      "text/plain": [
       "    cm\n",
       "階級    \n",
       "2    1\n",
       "3   12\n",
       "4   19\n",
       "5   14\n",
       "6    3"
      ]
     },
     "metadata": {},
     "output_type": "display_data"
    },
    {
     "data": {
      "image/png": "[encoded data removed]",
      "text/plain": [
       "<matplotlib.figure.Figure at 0x119274c50>"
      ]
     },
     "metadata": {},
     "output_type": "display_data"
    },
    {
     "name": "stdout",
     "output_type": "stream",
     "text": [
      "mogumogu\n"
     ]
    },
    {
     "data": {
      "text/html": [
       "<div>\n",
       "<table border=\"1\" class=\"dataframe\">\n",
       "  <thead>\n",
       "    <tr style=\"text-align: right;\">\n",
       "      <th></th>\n",
       "      <th>cm</th>\n",
       "    </tr>\n",
       "    <tr>\n",
       "      <th>階級</th>\n",
       "      <th></th>\n",
       "    </tr>\n",
       "  </thead>\n",
       "  <tbody>\n",
       "    <tr>\n",
       "      <th>0</th>\n",
       "      <td>1</td>\n",
       "    </tr>\n",
       "    <tr>\n",
       "      <th>2</th>\n",
       "      <td>5</td>\n",
       "    </tr>\n",
       "    <tr>\n",
       "      <th>3</th>\n",
       "      <td>13</td>\n",
       "    </tr>\n",
       "    <tr>\n",
       "      <th>4</th>\n",
       "      <td>10</td>\n",
       "    </tr>\n",
       "    <tr>\n",
       "      <th>5</th>\n",
       "      <td>9</td>\n",
       "    </tr>\n",
       "    <tr>\n",
       "      <th>6</th>\n",
       "      <td>7</td>\n",
       "    </tr>\n",
       "    <tr>\n",
       "      <th>7</th>\n",
       "      <td>4</td>\n",
       "    </tr>\n",
       "  </tbody>\n",
       "</table>\n",
       "</div>"
      ],
      "text/plain": [
       "    cm\n",
       "階級    \n",
       "0    1\n",
       "2    5\n",
       "3   13\n",
       "4   10\n",
       "5    9\n",
       "6    7\n",
       "7    4"
      ]
     },
     "metadata": {},
     "output_type": "display_data"
    },
    {
     "data": {
      "image/png": "[encoded data removed]",
      "text/plain": [
       "<matplotlib.figure.Figure at 0x1192666a0>"
      ]
     },
     "metadata": {},
     "output_type": "display_data"
    }
   ],
   "source": [
    "#階級(Ncm以上N+1cm未満)\n",
    "\n",
    "waku_df = pd.DataFrame()\n",
    "waku_df[\"cm\"] = waku_s\n",
    "waku_df[\"階級\"] = waku_df[\"cm\"].apply(lambda x: math.floor(x))\n",
    "print(\"wakuwaku\")\n",
    "display(waku_df.groupby(\"階級\").count())\n",
    "waku_df.groupby(\"階級\").count().plot(kind=\"bar\")\n",
    "plt.show()\n",
    "\n",
    "mogu_df = pd.DataFrame()\n",
    "mogu_df[\"cm\"] = mogu_s\n",
    "mogu_df[\"階級\"] = mogu_df[\"cm\"].apply(lambda x: math.floor(x))\n",
    "print(\"mogumogu\")\n",
    "display(mogu_df.groupby(\"階級\").count())\n",
    "mogu_df.groupby(\"階級\").count().plot(kind=\"bar\")\n",
    "plt.show()\n"
   ]
  },
  {
   "cell_type": "markdown",
   "metadata": {},
   "source": [
    "### 1.3　ばらつきを数字にする\n",
    "個々のデータと平均値との差の総和をとれば、たくさんばらついている時は値が大きくなるし、ばらついていなければ0にちかくなる値が出るはず。\n",
    "\n",
    "**分散 = （（データ－平均値）の２乗）の総和÷個数**"
   ]
  },
  {
   "cell_type": "code",
   "execution_count": 133,
   "metadata": {
    "collapsed": false
   },
   "outputs": [
    {
     "name": "stdout",
     "output_type": "stream",
     "text": [
      "wakuwaku\n",
      "分散 0.6808163265306124 SD 0.8251159473253517 SD(describeを利用) 0.8336666000266535\n",
      "mogumogu\n",
      "分散 2.584897959183674 SD 1.6077617855838202 SD(describeを利用) 1.624422974474321\n"
     ]
    }
   ],
   "source": [
    "print(\"wakuwaku\")\n",
    "waku_df[\"平均からの差\"]=waku_df[\"cm\"]-waku_ave\n",
    "waku_df[\"平均からの差**2\"]=waku_df[\"平均からの差\"]**2\n",
    "waku_variance = waku_df[\"平均からの差**2\"].sum()/waku_s.size \n",
    "waku_sd = math.sqrt(waku_variance) # standard deviation\n",
    "print(\"分散\",waku_variance,\"SD\",waku_sd,\"SD(describeを利用)\",waku_df[\"cm\"].std())\n",
    "\n",
    "print(\"mogumogu\")\n",
    "mogu_df[\"平均からの差\"]=mogu_df[\"cm\"]-mogu_ave\n",
    "mogu_df[\"平均からの差**2\"]=mogu_df[\"平均からの差\"]**2\n",
    "mogu_variance = mogu_df[\"平均からの差**2\"].sum()/mogu_s.size \n",
    "mogu_sd = math.sqrt(mogu_variance) # standard deviation\n",
    "print(\"分散\",mogu_variance,\"SD\",mogu_sd,\"SD(describeを利用)\",mogu_df[\"cm\"].std())"
   ]
  },
  {
   "cell_type": "markdown",
   "metadata": {},
   "source": [
    "## 1.5　実践編：チキンでいこう"
   ]
  },
  {
   "cell_type": "code",
   "execution_count": 125,
   "metadata": {
    "collapsed": false
   },
   "outputs": [
    {
     "data": {
      "text/html": [
       "<div>\n",
       "<table border=\"1\" class=\"dataframe\">\n",
       "  <thead>\n",
       "    <tr style=\"text-align: right;\">\n",
       "      <th></th>\n",
       "      <th>mogu</th>\n",
       "      <th>waku</th>\n",
       "    </tr>\n",
       "  </thead>\n",
       "  <tbody>\n",
       "    <tr>\n",
       "      <th>0</th>\n",
       "      <td>144</td>\n",
       "      <td>135</td>\n",
       "    </tr>\n",
       "    <tr>\n",
       "      <th>1</th>\n",
       "      <td>143</td>\n",
       "      <td>142</td>\n",
       "    </tr>\n",
       "    <tr>\n",
       "      <th>2</th>\n",
       "      <td>139</td>\n",
       "      <td>149</td>\n",
       "    </tr>\n",
       "    <tr>\n",
       "      <th>3</th>\n",
       "      <td>166</td>\n",
       "      <td>146</td>\n",
       "    </tr>\n",
       "    <tr>\n",
       "      <th>4</th>\n",
       "      <td>169</td>\n",
       "      <td>149</td>\n",
       "    </tr>\n",
       "    <tr>\n",
       "      <th>5</th>\n",
       "      <td>144</td>\n",
       "      <td>144</td>\n",
       "    </tr>\n",
       "    <tr>\n",
       "      <th>6</th>\n",
       "      <td>147</td>\n",
       "      <td>137</td>\n",
       "    </tr>\n",
       "    <tr>\n",
       "      <th>7</th>\n",
       "      <td>138</td>\n",
       "      <td>138</td>\n",
       "    </tr>\n",
       "    <tr>\n",
       "      <th>8</th>\n",
       "      <td>176</td>\n",
       "      <td>156</td>\n",
       "    </tr>\n",
       "    <tr>\n",
       "      <th>9</th>\n",
       "      <td>133</td>\n",
       "      <td>153</td>\n",
       "    </tr>\n",
       "    <tr>\n",
       "      <th>10</th>\n",
       "      <td>170</td>\n",
       "      <td>150</td>\n",
       "    </tr>\n",
       "    <tr>\n",
       "      <th>11</th>\n",
       "      <td>137</td>\n",
       "      <td>147</td>\n",
       "    </tr>\n",
       "    <tr>\n",
       "      <th>12</th>\n",
       "      <td>146</td>\n",
       "      <td>136</td>\n",
       "    </tr>\n",
       "    <tr>\n",
       "      <th>13</th>\n",
       "      <td>140</td>\n",
       "      <td>160</td>\n",
       "    </tr>\n",
       "    <tr>\n",
       "      <th>14</th>\n",
       "      <td>122</td>\n",
       "      <td>142</td>\n",
       "    </tr>\n",
       "    <tr>\n",
       "      <th>15</th>\n",
       "      <td>177</td>\n",
       "      <td>157</td>\n",
       "    </tr>\n",
       "  </tbody>\n",
       "</table>\n",
       "</div>"
      ],
      "text/plain": [
       "    mogu  waku\n",
       "0    144   135\n",
       "1    143   142\n",
       "2    139   149\n",
       "3    166   146\n",
       "4    169   149\n",
       "5    144   144\n",
       "6    147   137\n",
       "7    138   138\n",
       "8    176   156\n",
       "9    133   153\n",
       "10   170   150\n",
       "11   137   147\n",
       "12   146   136\n",
       "13   140   160\n",
       "14   122   142\n",
       "15   177   157"
      ]
     },
     "execution_count": 125,
     "metadata": {},
     "output_type": "execute_result"
    }
   ],
   "source": [
    "waku_chicken = [135, 142, 149, 146, 149, 144, 137, 138, 156, 153, 150, 147, 136, 160, 142, 157]\n",
    "mogu_chicken = [144, 143, 139, 166, 169, 144, 147, 138, 176, 133, 170, 137, 146, 140, 122, 177]\n",
    "chicken_df = pd.DataFrame({\"waku\":waku_chicken,\"mogu\":mogu_chicken})\n",
    "chicken_df"
   ]
  },
  {
   "cell_type": "code",
   "execution_count": 160,
   "metadata": {
    "collapsed": false,
    "scrolled": false
   },
   "outputs": [
    {
     "name": "stdout",
     "output_type": "stream",
     "text": [
      "wakuwaku\n",
      "平均 146.3125 分散 56.33984375 SD 7.505987193567545\n",
      "mogumogu\n",
      "平均 149.4375 分散 260.62109375 SD 16.14376330816331\n"
     ]
    }
   ],
   "source": [
    "print(\"wakuwaku\")\n",
    "waku_chicken_df = pd.DataFrame()\n",
    "waku_chicken_df[\"g\"] = chicken_df[\"waku\"]\n",
    "mean = chicken_df[\"waku\"].mean()\n",
    "waku_chicken_df[\"平均からの差\"]=waku_chicken_df-mean\n",
    "waku_chicken_df[\"平均からの差**2\"] = waku_chicken_df[\"平均からの差\"]**2\n",
    "variance = waku_chicken_df[\"平均からの差**2\"].sum()/chicken_df[\"waku\"].size\n",
    "sd = math.sqrt(variance) # standard deviation\n",
    "print(\"平均\",mean,\"分散\",variance,\"SD\",sd)\n",
    "\n",
    "print(\"mogumogu\")\n",
    "mogu_chicken_df = pd.DataFrame()\n",
    "mogu_chicken_df[\"g\"] = chicken_df[\"mogu\"]\n",
    "mean = chicken_df[\"mogu\"].mean()\n",
    "mogu_chicken_df[\"平均からの差\"]=mogu_chicken_df-mean\n",
    "mogu_chicken_df[\"平均からの差**2\"] = mogu_chicken_df[\"平均からの差\"]**2\n",
    "variance = mogu_chicken_df[\"平均からの差**2\"].sum()/chicken_df[\"mogu\"].size\n",
    "sd = math.sqrt(variance) # standard deviation\n",
    "print(\"平均\",mean,\"分散\",variance,\"SD\",sd)"
   ]
  },
  {
   "cell_type": "code",
   "execution_count": 168,
   "metadata": {
    "collapsed": false
   },
   "outputs": [
    {
     "name": "stdout",
     "output_type": "stream",
     "text": [
      "平均\n"
     ]
    },
    {
     "data": {
      "text/plain": [
       "mogu    149.4375\n",
       "waku    146.3125\n",
       "dtype: float64"
      ]
     },
     "metadata": {},
     "output_type": "display_data"
    },
    {
     "data": {
      "text/html": [
       "<div>\n",
       "<table border=\"1\" class=\"dataframe\">\n",
       "  <thead>\n",
       "    <tr style=\"text-align: right;\">\n",
       "      <th></th>\n",
       "      <th>mogu</th>\n",
       "      <th>waku</th>\n",
       "    </tr>\n",
       "  </thead>\n",
       "  <tbody>\n",
       "    <tr>\n",
       "      <th>count</th>\n",
       "      <td>16.000000</td>\n",
       "      <td>16.00000</td>\n",
       "    </tr>\n",
       "    <tr>\n",
       "      <th>mean</th>\n",
       "      <td>149.437500</td>\n",
       "      <td>146.31250</td>\n",
       "    </tr>\n",
       "    <tr>\n",
       "      <th>std</th>\n",
       "      <td>16.673207</td>\n",
       "      <td>7.75215</td>\n",
       "    </tr>\n",
       "    <tr>\n",
       "      <th>min</th>\n",
       "      <td>122.000000</td>\n",
       "      <td>135.00000</td>\n",
       "    </tr>\n",
       "    <tr>\n",
       "      <th>25%</th>\n",
       "      <td>138.750000</td>\n",
       "      <td>141.00000</td>\n",
       "    </tr>\n",
       "    <tr>\n",
       "      <th>50%</th>\n",
       "      <td>144.000000</td>\n",
       "      <td>146.50000</td>\n",
       "    </tr>\n",
       "    <tr>\n",
       "      <th>75%</th>\n",
       "      <td>166.750000</td>\n",
       "      <td>150.75000</td>\n",
       "    </tr>\n",
       "    <tr>\n",
       "      <th>max</th>\n",
       "      <td>177.000000</td>\n",
       "      <td>160.00000</td>\n",
       "    </tr>\n",
       "  </tbody>\n",
       "</table>\n",
       "</div>"
      ],
      "text/plain": [
       "             mogu       waku\n",
       "count   16.000000   16.00000\n",
       "mean   149.437500  146.31250\n",
       "std     16.673207    7.75215\n",
       "min    122.000000  135.00000\n",
       "25%    138.750000  141.00000\n",
       "50%    144.000000  146.50000\n",
       "75%    166.750000  150.75000\n",
       "max    177.000000  160.00000"
      ]
     },
     "metadata": {},
     "output_type": "display_data"
    },
    {
     "name": "stdout",
     "output_type": "stream",
     "text": [
      "不偏分散\n",
      " mogu    277.995833\n",
      "waku     60.095833\n",
      "dtype: float64\n",
      "標本分散\n",
      " mogu    260.621094\n",
      "waku     56.339844\n",
      "dtype: float64\n",
      "不偏標準偏差\n",
      " mogu    16.673207\n",
      "waku     7.752150\n",
      "dtype: float64\n",
      "標本標準偏差\n",
      " mogu    16.143763\n",
      "waku     7.505987\n",
      "dtype: float64\n"
     ]
    }
   ],
   "source": [
    "# こたえあわせと確認\n",
    "print(\"平均\")\n",
    "display(chicken_df.mean())\n",
    "\n",
    "display(chicken_df.describe())\n",
    "print(\"不偏分散\\n\",chicken_df.var())# 不偏分散\n",
    "print(\"標本分散\\n\",chicken_df.var(ddof=False))# 標本分散\n",
    "\n",
    "print(\"不偏標準偏差\\n\",chicken_df.std())\n",
    "print(\"標本標準偏差\\n\",chicken_df.std(ddof=False))"
   ]
  },
  {
   "cell_type": "markdown",
   "metadata": {},
   "source": [
    "### 1.9　通過テスト"
   ]
  },
  {
   "cell_type": "code",
   "execution_count": 144,
   "metadata": {
    "collapsed": false
   },
   "outputs": [
    {
     "data": {
      "text/html": [
       "<div>\n",
       "<table border=\"1\" class=\"dataframe\">\n",
       "  <thead>\n",
       "    <tr style=\"text-align: right;\">\n",
       "      <th></th>\n",
       "      <th>柳組</th>\n",
       "      <th>桃組</th>\n",
       "      <th>桜組</th>\n",
       "    </tr>\n",
       "  </thead>\n",
       "  <tbody>\n",
       "    <tr>\n",
       "      <th>0</th>\n",
       "      <td>57</td>\n",
       "      <td>70</td>\n",
       "      <td>78</td>\n",
       "    </tr>\n",
       "    <tr>\n",
       "      <th>1</th>\n",
       "      <td>59</td>\n",
       "      <td>72</td>\n",
       "      <td>62</td>\n",
       "    </tr>\n",
       "    <tr>\n",
       "      <th>2</th>\n",
       "      <td>55</td>\n",
       "      <td>68</td>\n",
       "      <td>81</td>\n",
       "    </tr>\n",
       "    <tr>\n",
       "      <th>3</th>\n",
       "      <td>62</td>\n",
       "      <td>75</td>\n",
       "      <td>59</td>\n",
       "    </tr>\n",
       "    <tr>\n",
       "      <th>4</th>\n",
       "      <td>52</td>\n",
       "      <td>65</td>\n",
       "      <td>72</td>\n",
       "    </tr>\n",
       "    <tr>\n",
       "      <th>5</th>\n",
       "      <td>58</td>\n",
       "      <td>71</td>\n",
       "      <td>68</td>\n",
       "    </tr>\n",
       "    <tr>\n",
       "      <th>6</th>\n",
       "      <td>56</td>\n",
       "      <td>69</td>\n",
       "      <td>75</td>\n",
       "    </tr>\n",
       "    <tr>\n",
       "      <th>7</th>\n",
       "      <td>63</td>\n",
       "      <td>76</td>\n",
       "      <td>65</td>\n",
       "    </tr>\n",
       "    <tr>\n",
       "      <th>8</th>\n",
       "      <td>51</td>\n",
       "      <td>64</td>\n",
       "      <td>80</td>\n",
       "    </tr>\n",
       "    <tr>\n",
       "      <th>9</th>\n",
       "      <td>67</td>\n",
       "      <td>80</td>\n",
       "      <td>60</td>\n",
       "    </tr>\n",
       "    <tr>\n",
       "      <th>10</th>\n",
       "      <td>47</td>\n",
       "      <td>60</td>\n",
       "      <td>78</td>\n",
       "    </tr>\n",
       "    <tr>\n",
       "      <th>11</th>\n",
       "      <td>60</td>\n",
       "      <td>73</td>\n",
       "      <td>62</td>\n",
       "    </tr>\n",
       "    <tr>\n",
       "      <th>12</th>\n",
       "      <td>54</td>\n",
       "      <td>67</td>\n",
       "      <td>70</td>\n",
       "    </tr>\n",
       "  </tbody>\n",
       "</table>\n",
       "</div>"
      ],
      "text/plain": [
       "    柳組  桃組  桜組\n",
       "0   57  70  78\n",
       "1   59  72  62\n",
       "2   55  68  81\n",
       "3   62  75  59\n",
       "4   52  65  72\n",
       "5   58  71  68\n",
       "6   56  69  75\n",
       "7   63  76  65\n",
       "8   51  64  80\n",
       "9   67  80  60\n",
       "10  47  60  78\n",
       "11  60  73  62\n",
       "12  54  67  70"
      ]
     },
     "execution_count": 144,
     "metadata": {},
     "output_type": "execute_result"
    }
   ],
   "source": [
    "sakura = [78, 62, 81, 59, 72, 68, 75, 65, 80, 60, 78, 62, 70]\n",
    "momo = [70, 72, 68, 75, 65, 71, 69, 76, 64, 80, 60, 73, 67]\n",
    "yanagi = [57, 59, 55, 62, 52, 58, 56, 63, 51, 67, 47, 60, 54]\n",
    "record_df = pd.DataFrame({\"桜組\":sakura,\"桃組\":momo,\"柳組\":yanagi})\n",
    "record_df"
   ]
  },
  {
   "cell_type": "code",
   "execution_count": 173,
   "metadata": {
    "collapsed": false
   },
   "outputs": [
    {
     "name": "stdout",
     "output_type": "stream",
     "text": [
      "平均\n"
     ]
    },
    {
     "data": {
      "text/plain": [
       "柳組    57\n",
       "桃組    70\n",
       "桜組    70\n",
       "dtype: float64"
      ]
     },
     "metadata": {},
     "output_type": "display_data"
    },
    {
     "name": "stdout",
     "output_type": "stream",
     "text": [
      "標本分散\n"
     ]
    },
    {
     "data": {
      "text/plain": [
       "柳組    26.923077\n",
       "桃組    26.923077\n",
       "桜組    58.153846\n",
       "dtype: float64"
      ]
     },
     "metadata": {},
     "output_type": "display_data"
    },
    {
     "name": "stdout",
     "output_type": "stream",
     "text": [
      "標本標準偏差\n"
     ]
    },
    {
     "data": {
      "text/plain": [
       "柳組    5.188745\n",
       "桃組    5.188745\n",
       "桜組    7.625867\n",
       "dtype: float64"
      ]
     },
     "metadata": {},
     "output_type": "display_data"
    }
   ],
   "source": [
    "print(\"平均\")\n",
    "display(record_df.mean())\n",
    "print(\"標本分散\")\n",
    "display(record_df.var(ddof=False))\n",
    "print(\"標本標準偏差\")\n",
    "display(record_df.std(ddof=False))"
   ]
  },
  {
   "cell_type": "code",
   "execution_count": 182,
   "metadata": {
    "collapsed": false
   },
   "outputs": [
    {
     "name": "stdout",
     "output_type": "stream",
     "text": [
      "度数分布\n"
     ]
    },
    {
     "data": {
      "image/png": "[encoded data removed]",
      "text/plain": [
       "<matplotlib.figure.Figure at 0x1190cd320>"
      ]
     },
     "metadata": {},
     "output_type": "display_data"
    },
    {
     "data": {
      "image/png": "[encoded data removed]",
      "text/plain": [
       "<matplotlib.figure.Figure at 0x119f0b2e8>"
      ]
     },
     "metadata": {},
     "output_type": "display_data"
    },
    {
     "data": {
      "image/png": "[encoded data removed]",
      "text/plain": [
       "<matplotlib.figure.Figure at 0x119e330f0>"
      ]
     },
     "metadata": {},
     "output_type": "display_data"
    }
   ],
   "source": [
    "print(\"度数分布\")\n",
    "record_df[\"柳組の階級\"] = record_df[\"柳組\"].apply(lambda x: math.floor(x/10))\n",
    "record_df[\"桃組の階級\"] = record_df[\"桃組\"].apply(lambda x: math.floor(x/10))\n",
    "record_df[\"桜組の階級\"] = record_df[\"桜組\"].apply(lambda x: math.floor(x/10))\n",
    "\n",
    "record_df.groupby(\"柳組の階級\").count()[\"柳組\"].plot(kind=\"bar\")\n",
    "plt.show()\n",
    "\n",
    "record_df.groupby(\"桃組の階級\").count()[\"桃組\"].plot(kind=\"bar\")\n",
    "plt.show()\n",
    "\n",
    "record_df.groupby(\"桜組の階級\").count()[\"桜組\"].plot(kind=\"bar\")\n",
    "plt.show()"
   ]
  },
  {
   "cell_type": "markdown",
   "metadata": {},
   "source": [
    "$$c = \\sqrt{a^2 + b^2}$$"
   ]
  },
  {
   "cell_type": "markdown",
   "metadata": {},
   "source": []
  }
 ],
 "metadata": {
  "kernelspec": {
   "display_name": "Python 3",
   "language": "python",
   "name": "python3"
  },
  "language_info": {
   "codemirror_mode": {
    "name": "ipython",
    "version": 3
   },
   "file_extension": ".py",
   "mimetype": "text/x-python",
   "name": "python",
   "nbconvert_exporter": "python",
   "pygments_lexer": "ipython3",
   "version": "3.5.4"
  }
 },
 "nbformat": 4,
 "nbformat_minor": 0
}
