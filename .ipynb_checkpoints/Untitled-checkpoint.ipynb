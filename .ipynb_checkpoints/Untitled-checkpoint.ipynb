{
 "cells": [
  {
   "cell_type": "markdown",
   "metadata": {},
   "source": [
    "ハンバーガーショップで学ぶ\n",
    "\n",
    "楽しい統計学\n",
    "\n",
    "──平均から分散分析まで──\n",
    "\n",
    "http://kogolab.chillout.jp/elearn/hamburger/"
   ]
  },
  {
   "cell_type": "code",
   "execution_count": 49,
   "metadata": {
    "collapsed": true
   },
   "outputs": [],
   "source": [
    "import pandas as pd #データフレームを扱う\n",
    "\n",
    "# 表示系\n",
    "%matplotlib inline\n",
    "from IPython.display import display, HTML\n",
    "import matplotlib.pyplot as plt\n",
    "import seaborn as sns\n",
    "\n",
    "\n",
    "\n",
    "import numpy as np\n",
    "import math\n",
    "\n",
    "\n"
   ]
  },
  {
   "cell_type": "markdown",
   "metadata": {},
   "source": [
    "## 1. 平均と分散"
   ]
  },
  {
   "cell_type": "code",
   "execution_count": 25,
   "metadata": {
    "collapsed": false
   },
   "outputs": [
    {
     "name": "stdout",
     "output_type": "stream",
     "text": [
      "wakuwaku ave :  4.57\n",
      "mogumogu ave :  4.61\n"
     ]
    }
   ],
   "source": [
    "data = [3.5, 4.2, 4.9, 4.6, 2.8, 5.6, 4.2, 4.9, 4.4, 3.7, 3.8, 4, 5.2, 3.9, 5.6, 5.3, 5, 4.7, 4, 3.1, 5.8, 3.6, 6, 4.2, 5.7, 3.9, 4.7, 5.3, 5.5, 4.7, 6.4, 3.8, 3.9, 4.2, 5.1, 5.1, 4.1, 3.6, 4.2, 5, 4.2, 5.2, 5.3, 6.4, 4.4, 3.6, 3.7, 4.2, 4.8]\n",
    "waku_s = pd.Series(data)\n",
    "waku_ave = waku_s.sum()/waku_s.size\n",
    "\n",
    "data = [4.5, 4.2, 3.9, 6.6, 0.8, 5.6, 3.2, 6.9, 4.4, 4.7, 3.8, 3, 3.2, 4.9, 7.6, 3.3, 7, 3.7, 3, 4.1, 5.8, 4.6, 4, 2.2, 7.7, 3.9, 6.7, 3.3, 7.5, 2.7, 5.4, 5.8, 5.9, 3.2, 5.1, 3.1, 6.1, 4.6, 2.2, 4, 6.4, 5.2, 3.3, 6.4, 6.4, 2.6, 2.6, 5.2, 5.8]\n",
    "mogu_s = pd.Series(data)\n",
    "mogu_ave = mogu_s.sum()/mogu_s.size\n",
    "\n",
    "print(\"wakuwaku ave : \",round(waku_ave,2))\n",
    "print(\"mogumogu ave : \",round(mogu_ave,2))"
   ]
  },
  {
   "cell_type": "markdown",
   "metadata": {},
   "source": [
    "### 1.2　度数分布"
   ]
  },
  {
   "cell_type": "code",
   "execution_count": 62,
   "metadata": {
    "collapsed": false
   },
   "outputs": [
    {
     "name": "stdout",
     "output_type": "stream",
     "text": [
      "wakuwaku\n"
     ]
    },
    {
     "data": {
      "text/html": [
       "<div>\n",
       "<table border=\"1\" class=\"dataframe\">\n",
       "  <thead>\n",
       "    <tr style=\"text-align: right;\">\n",
       "      <th></th>\n",
       "      <th>cm</th>\n",
       "    </tr>\n",
       "    <tr>\n",
       "      <th>階級</th>\n",
       "      <th></th>\n",
       "    </tr>\n",
       "  </thead>\n",
       "  <tbody>\n",
       "    <tr>\n",
       "      <th>2</th>\n",
       "      <td>1</td>\n",
       "    </tr>\n",
       "    <tr>\n",
       "      <th>3</th>\n",
       "      <td>12</td>\n",
       "    </tr>\n",
       "    <tr>\n",
       "      <th>4</th>\n",
       "      <td>19</td>\n",
       "    </tr>\n",
       "    <tr>\n",
       "      <th>5</th>\n",
       "      <td>14</td>\n",
       "    </tr>\n",
       "    <tr>\n",
       "      <th>6</th>\n",
       "      <td>3</td>\n",
       "    </tr>\n",
       "  </tbody>\n",
       "</table>\n",
       "</div>"
      ],
      "text/plain": [
       "    cm\n",
       "階級    \n",
       "2    1\n",
       "3   12\n",
       "4   19\n",
       "5   14\n",
       "6    3"
      ]
     },
     "metadata": {},
     "output_type": "display_data"
    },
    {
     "data": {
      "image/png": "[encoded data removed]",
      "text/plain": [
       "<matplotlib.figure.Figure at 0x11911c550>"
      ]
     },
     "metadata": {},
     "output_type": "display_data"
    },
    {
     "name": "stdout",
     "output_type": "stream",
     "text": [
      "mogumogu\n"
     ]
    },
    {
     "data": {
      "text/html": [
       "<div>\n",
       "<table border=\"1\" class=\"dataframe\">\n",
       "  <thead>\n",
       "    <tr style=\"text-align: right;\">\n",
       "      <th></th>\n",
       "      <th>cm</th>\n",
       "    </tr>\n",
       "    <tr>\n",
       "      <th>階級</th>\n",
       "      <th></th>\n",
       "    </tr>\n",
       "  </thead>\n",
       "  <tbody>\n",
       "    <tr>\n",
       "      <th>0</th>\n",
       "      <td>1</td>\n",
       "    </tr>\n",
       "    <tr>\n",
       "      <th>2</th>\n",
       "      <td>5</td>\n",
       "    </tr>\n",
       "    <tr>\n",
       "      <th>3</th>\n",
       "      <td>13</td>\n",
       "    </tr>\n",
       "    <tr>\n",
       "      <th>4</th>\n",
       "      <td>10</td>\n",
       "    </tr>\n",
       "    <tr>\n",
       "      <th>5</th>\n",
       "      <td>9</td>\n",
       "    </tr>\n",
       "    <tr>\n",
       "      <th>6</th>\n",
       "      <td>7</td>\n",
       "    </tr>\n",
       "    <tr>\n",
       "      <th>7</th>\n",
       "      <td>4</td>\n",
       "    </tr>\n",
       "  </tbody>\n",
       "</table>\n",
       "</div>"
      ],
      "text/plain": [
       "    cm\n",
       "階級    \n",
       "0    1\n",
       "2    5\n",
       "3   13\n",
       "4   10\n",
       "5    9\n",
       "6    7\n",
       "7    4"
      ]
     },
     "metadata": {},
     "output_type": "display_data"
    },
    {
     "data": {
      "image/png": "[encoded data removed]",
      "text/plain": [
       "<matplotlib.figure.Figure at 0x118c63048>"
      ]
     },
     "metadata": {},
     "output_type": "display_data"
    }
   ],
   "source": [
    "#階級(Ncm以上N+1cm未満)\n",
    "\n",
    "waku_df = pd.DataFrame()\n",
    "waku_df[\"cm\"] = waku_s\n",
    "waku_df[\"階級\"] = waku_df[\"cm\"].apply(lambda x: math.floor(x))\n",
    "print(\"wakuwaku\")\n",
    "display(waku_df.groupby(\"階級\").count())\n",
    "waku_df.groupby(\"階級\").count().plot(kind=\"bar\")\n",
    "plt.show()\n",
    "\n",
    "mogu_df = pd.DataFrame()\n",
    "mogu_df[\"cm\"] = mogu_s\n",
    "mogu_df[\"階級\"] = mogu_df[\"cm\"].apply(lambda x: math.floor(x))\n",
    "print(\"mogumogu\")\n",
    "display(mogu_df.groupby(\"階級\").count())\n",
    "mogu_df.groupby(\"階級\").count().plot(kind=\"bar\")\n",
    "plt.show()\n"
   ]
  },
  {
   "cell_type": "markdown",
   "metadata": {},
   "source": [
    "### 1.3　ばらつきを数字にする\n",
    "個々のデータと平均値との差の総和をとれば、たくさんばらついている時は値が大きくなるし、ばらついていなければ0にちかくなる値が出るはず。\n",
    "\n",
    "**分散 = （（データ－平均値）の２乗）の総和÷個数**"
   ]
  },
  {
   "cell_type": "code",
   "execution_count": 103,
   "metadata": {
    "collapsed": false
   },
   "outputs": [
    {
     "name": "stdout",
     "output_type": "stream",
     "text": [
      "wakuwaku\n",
      "分散 0.6808163265306124 SD 0.8251159473253517 SD(describeを利用) 0.9271967846962264\n",
      "mogumogu\n",
      "分散 2.584897959183674 SD 1.6077617855838202 SD(describeを利用) 1.5857035606672907\n"
     ]
    }
   ],
   "source": [
    "print(\"wakuwaku\")\n",
    "waku_df[\"平均からの差\"]=waku_df[\"cm\"]-waku_ave\n",
    "waku_df[\"平均からの差**2\"]=waku_df[\"平均からの差\"]**2\n",
    "waku_variance = waku_df[\"平均からの差**2\"].sum()/waku_s.size \n",
    "waku_sd = math.sqrt(waku_variance) # standard deviation\n",
    "print(\"分散\",waku_variance,\"SD\",waku_sd,\"SD(describeを利用)\",waku_df[\"階級\"].std())\n",
    "\n",
    "print(\"mogumogu\")\n",
    "mogu_df[\"平均からの差\"]=mogu_df[\"cm\"]-mogu_ave\n",
    "mogu_df[\"平均からの差**2\"]=mogu_df[\"平均からの差\"]**2\n",
    "mogu_variance = mogu_df[\"平均からの差**2\"].sum()/mogu_s.size \n",
    "mogu_sd = math.sqrt(mogu_variance) # standard deviation\n",
    "print(\"分散\",mogu_variance,\"SD\",mogu_sd,\"SD(describeを利用)\",mogu_df[\"階級\"].std())"
   ]
  },
  {
   "cell_type": "markdown",
   "metadata": {},
   "source": [
    "## 1.5　実践編：チキンでいこう"
   ]
  }
 ],
 "metadata": {
  "kernelspec": {
   "display_name": "Python 3",
   "language": "python",
   "name": "python3"
  },
  "language_info": {
   "codemirror_mode": {
    "name": "ipython",
    "version": 3
   },
   "file_extension": ".py",
   "mimetype": "text/x-python",
   "name": "python",
   "nbconvert_exporter": "python",
   "pygments_lexer": "ipython3",
   "version": "3.5.4"
  }
 },
 "nbformat": 4,
 "nbformat_minor": 0
}
