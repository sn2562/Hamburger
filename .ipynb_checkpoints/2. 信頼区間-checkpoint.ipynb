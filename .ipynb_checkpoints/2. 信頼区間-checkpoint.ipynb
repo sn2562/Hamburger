{
 "cells": [
  {
   "cell_type": "code",
   "execution_count": 2,
   "metadata": {
    "collapsed": true
   },
   "outputs": [],
   "source": [
    "import pandas as pd #データフレームを扱う\n",
    "\n",
    "# 表示系\n",
    "%matplotlib inline\n",
    "from IPython.display import display, HTML\n",
    "import matplotlib.pyplot as plt\n",
    "import seaborn as sns\n",
    "\n",
    "import numpy as np\n",
    "import math"
   ]
  },
  {
   "cell_type": "markdown",
   "metadata": {},
   "source": [
    "http://kogolab.chillout.jp/elearn/hamburger/chap2/sec3.html"
   ]
  },
  {
   "cell_type": "markdown",
   "metadata": {},
   "source": [
    "## 2. 信頼区間"
   ]
  },
  {
   "cell_type": "markdown",
   "metadata": {},
   "source": [
    "### 2.1　平均的ポテトを推定する"
   ]
  },
  {
   "cell_type": "code",
   "execution_count": 13,
   "metadata": {
    "collapsed": false
   },
   "outputs": [
    {
     "name": "stdout",
     "output_type": "stream",
     "text": [
      "平均(母平均の推定値) 49.2\n",
      "不偏分散(母分散の推定値) 3.5111111111111115\n"
     ]
    }
   ],
   "source": [
    "data = [47, 51, 49, 50, 49, 46, 51, 48, 52, 49]\n",
    "sampling_data = pd.Series(data)\n",
    "print(\"平均(母平均の推定値)\",sampling_data.mean())\n",
    "print(\"不偏分散(母分散の推定値)\",sampling_data.var())\n",
    "# print(\"標準偏差\",sampling_data.std())"
   ]
  },
  {
   "cell_type": "markdown",
   "metadata": {},
   "source": [
    "- 母集団\n",
    "- 抽出（サンプリング）\n",
    "- 標本\n",
    "- 無作為抽出（ランダムサンプリング）\n",
    "- 標本の大きさ（サンプルサイズ）"
   ]
  },
  {
   "cell_type": "markdown",
   "metadata": {},
   "source": [
    "### 2.2　母集団の平均と分散を推定する"
   ]
  },
  {
   "cell_type": "markdown",
   "metadata": {},
   "source": [
    "- 不偏分散（母分散の推定値）"
   ]
  },
  {
   "cell_type": "markdown",
   "metadata": {},
   "source": [
    "### 2.3　区間推定／信頼区間"
   ]
  },
  {
   "cell_type": "markdown",
   "metadata": {},
   "source": [
    "- サンプルサイズを10として、母集団から10個のデータを取ります。この平均を計算して、それを標本平均1とします。標本を戻して、もう一度10個のデータを取ります。その平均を標本平均2とします。このようなことを何回も繰り返します。\n",
    "- 標本平均の分布を描いてみると、これもまた正規分布に従います。そのときの平均値は母平均に一致します。また分散は母分散の10分の1、つまり「(サンプルサイズ)分の1」になります。\n",
    "- 一回限りの標本を取ったときに、その平均値が推定したい母平均を含んでいるような範囲はどうなるか\n",
    "- 母平均を含むような範囲を決めるときに、どのような範囲にすればいいか\n",
    "    - 95%信頼区間\n",
    "    - 99%信頼区間\n",
    "- 母平均から標本平均を左右にずらしたとき、左右の標本平均で囲まれた部分の面積が全体の95%になるまでずらす。\n",
    "- そのとき、その標本平均から母平均までの差を取り、それを標本平均の範囲とすれば、その範囲に母平均が含まれる確率がちょうど95%になる。"
   ]
  },
  {
   "cell_type": "markdown",
   "metadata": {},
   "source": [
    "- 母平均の推定値として、標本平均を使う\n",
    "- 標本平均の分布の分散の推定値として、母分散を標本数で割ったものを使う\n",
    "- 母分散は不偏分散で推定"
   ]
  },
  {
   "cell_type": "markdown",
   "metadata": {},
   "source": [
    "$$標本平均の分散＝（母分散／サンプルサイズ）＝（不偏分散／標本数）$$\n",
    "\n",
    "$$標本平均の標準偏差＝（不偏分散／サンプルサイズ）の平方根$$"
   ]
  },
  {
   "cell_type": "markdown",
   "metadata": {},
   "source": [
    "- 標本平均の標準偏差を「標本標準誤差」（SE=standard error）と呼ぶ\n",
    "- 信頼区間＝標本平均±t×標本標準誤差\n",
    "- 「t」は信頼区間で決められた分布の面積が95%になるような数値"
   ]
  }
 ],
 "metadata": {
  "kernelspec": {
   "display_name": "Python 3",
   "language": "python",
   "name": "python3"
  },
  "language_info": {
   "codemirror_mode": {
    "name": "ipython",
    "version": 3
   },
   "file_extension": ".py",
   "mimetype": "text/x-python",
   "name": "python",
   "nbconvert_exporter": "python",
   "pygments_lexer": "ipython3",
   "version": "3.5.4"
  }
 },
 "nbformat": 4,
 "nbformat_minor": 0
}
